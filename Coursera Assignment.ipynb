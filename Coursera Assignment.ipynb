{
 "cells": [
  {
   "cell_type": "markdown",
   "id": "0d5bb994-d2ef-411f-9a39-d8a203946f99",
   "metadata": {},
   "source": [
    "# Data Science Tools and Ecosystem"
   ]
  },
  {
   "cell_type": "markdown",
   "id": "4331ff4d-d8aa-4238-93ab-b751ff23ced0",
   "metadata": {},
   "source": [
    "# In this notebook, Data Science Tools and Ecosystem are summarized."
   ]
  },
  {
   "cell_type": "markdown",
   "id": "13eb1ae1-59b1-4117-8c72-2a11ef552546",
   "metadata": {},
   "source": [
    "# Some of the popular languages that Data Scientists use are:\n",
    "# ordered list\n",
    "1. Python\n",
    "2. Scala\n",
    "3. R\n",
    "4. Java\n",
    "5. SQL"
   ]
  },
  {
   "cell_type": "markdown",
   "id": "bd0deea7-05a1-4956-9e5e-411e35e3f153",
   "metadata": {},
   "source": [
    "# Some of the commonly used libraries used by Data Scientists include:\n",
    "# Ordered List\n",
    "1. NumPy\n",
    "2. Pandas\n",
    "3. Scikit-learn\n",
    "4. Matplotlib"
   ]
  },
  {
   "cell_type": "markdown",
   "id": "89684c20-0b02-47ed-a7c3-b9f635beaf9f",
   "metadata": {},
   "source": [
    "| Data Science Tools |\n",
    "|--------------------|\n",
    "| JupyterNotebook    |\n",
    "| Spyder             |\n",
    "| Jupyter Lab        |"
   ]
  },
  {
   "cell_type": "markdown",
   "id": "fb68450c-210d-419f-bc0b-ae927f018dde",
   "metadata": {},
   "source": [
    "### Below are a few examples of evaluating arithmetic expressions in Python\n",
    "a + b<br>\n",
    "a - b<br>\n",
    "a * b<br>\n",
    "a / b<br>\n",
    "a // b<br>\n",
    "a ** b<br>"
   ]
  },
  {
   "cell_type": "code",
   "execution_count": 35,
   "id": "75dce596-346f-4604-bb8b-86ceb013c492",
   "metadata": {},
   "outputs": [
    {
     "data": {
      "text/plain": [
       "17"
      ]
     },
     "execution_count": 35,
     "metadata": {},
     "output_type": "execute_result"
    }
   ],
   "source": [
    "# This a simple arithmetic expression to mutiply then add integers\n",
    "(3*4)+5"
   ]
  },
  {
   "cell_type": "code",
   "execution_count": 41,
   "id": "580f1427-6e2b-43fe-9613-858a30cb4b63",
   "metadata": {},
   "outputs": [
    {
     "name": "stdout",
     "output_type": "stream",
     "text": [
      "3.3333333333333335 hours\n"
     ]
    }
   ],
   "source": [
    "# This will convert 200 minutes to hours by diving by 60\n",
    "print(200/60, \"hours\")"
   ]
  },
  {
   "cell_type": "markdown",
   "id": "507d7573-4e3f-474d-8bd1-64943884b608",
   "metadata": {},
   "source": [
    "# Objectives:\n",
    "## List popular languages for Data Science\n",
    "- Python\n",
    "- Scala\n",
    "- R \n",
    "- Java\n",
    "- SQL"
   ]
  },
  {
   "cell_type": "markdown",
   "id": "53c9248a-3f7d-46a2-b7ba-79e4bc556c86",
   "metadata": {},
   "source": [
    "## Author\n",
    "Navraj Singh"
   ]
  },
  {
   "cell_type": "markdown",
   "id": "d8c4e73b-ff23-48de-b7ab-55745f217d80",
   "metadata": {},
   "source": [
    "## Github Link \n",
    "[GitHub Assignment link](https://github.com/GitCode14/Coursera-Assignment)"
   ]
  },
  {
   "cell_type": "code",
   "execution_count": null,
   "id": "99e65e08-032a-4f93-be5c-5273461d6057",
   "metadata": {},
   "outputs": [],
   "source": []
  }
 ],
 "metadata": {
  "kernelspec": {
   "display_name": "Python [conda env:base] *",
   "language": "python",
   "name": "conda-base-py"
  },
  "language_info": {
   "codemirror_mode": {
    "name": "ipython",
    "version": 3
   },
   "file_extension": ".py",
   "mimetype": "text/x-python",
   "name": "python",
   "nbconvert_exporter": "python",
   "pygments_lexer": "ipython3",
   "version": "3.12.7"
  }
 },
 "nbformat": 4,
 "nbformat_minor": 5
}
